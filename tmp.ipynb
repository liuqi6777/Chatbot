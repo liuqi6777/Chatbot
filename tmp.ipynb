{
 "cells": [
  {
   "cell_type": "code",
   "execution_count": 3,
   "metadata": {},
   "outputs": [
    {
     "data": {
      "text/plain": [
       "[['厄 … … 有 毛长 真好', '不怕 - - 18 天后 又 是 一头 长发 - -', '是 长 树叶 还是 。 。 。'],\n",
       " ['大半夜 的 ， 你 不 睡觉 这 又 文艺 个 啥 ？', '我 也 会 有 失眠 的 嘶吼 哇 。 。 。', '为 毛 失眠 ？'],\n",
       " ['一首 梦醒 时分', '一首 梦想成真 送给 你', '行行行 ， 你 6'],\n",
       " ['我们 在 学习 的 海洋 ~',\n",
       "  '我 也 是 啊',\n",
       "  '哇 喔 ， 真是 太巧 了 ~',\n",
       "  '你们 在 哪个 房间 游 啊',\n",
       "  'AB sac 啊 ~ 你 呢'],\n",
       " ['这么 早 ！ 肚子痛 哇 ？',\n",
       "  '哪儿 嘛 ! 二环路 不 分 日夜 的 赶工 ， 噪音 大得 不得了 。 天天 只 睡 得到 几个 小时 。',\n",
       "  '噢 ， 我们 这儿 都 堵起 两公里 了 。'],\n",
       " ['我 头像 也 变小 正太 了', '哎 呦 ~ 头像 效果 不错 欧', '主要 是 大 侄儿 太帅 。', '大 侄儿 ？'],\n",
       " ['长发 多好 的 呀 ， 干嘛 剪 啊', '你 是 熹熹 同学 哇 ？ 但是 我 不 认识 你', '哈哈哈 ， 以后 会 认识 的'],\n",
       " ['哪条 路 改天 去 偶遇 你', '不 告诉 你', '那 就 886'],\n",
       " ['一阵 认同 啊 你 是', '当然 ， 尊重 是 互相 的', '你 果然 是 不 睡觉 的 主', '是 我 已经 起床 了', '真 早 ！'],\n",
       " ['给 我 来 一袋 就行了 不 就是 找个 媳妇儿 的 事儿 吗 包 我 身上 了', '当真', '一袋 现金 包 你 满意']]"
      ]
     },
     "execution_count": 3,
     "metadata": {},
     "output_type": "execute_result"
    }
   ],
   "source": [
    "import ujson\n",
    "\n",
    "data_path = 'data/lccc_large.jsonl'\n",
    "\n",
    "sample = []\n",
    "\n",
    "with open(data_path, 'r', encoding='utf-8') as f:\n",
    "    for _ in range(1000):\n",
    "        sample.append(ujson.loads(f.readline().strip()))\n",
    "    \n",
    "sample[-10:]"
   ]
  },
  {
   "cell_type": "code",
   "execution_count": 5,
   "metadata": {},
   "outputs": [
    {
     "name": "stderr",
     "output_type": "stream",
     "text": [
      "12007759it [00:53, 226326.18it/s]"
     ]
    },
    {
     "name": "stdout",
     "output_type": "stream",
     "text": [
      "7273804\n"
     ]
    },
    {
     "name": "stderr",
     "output_type": "stream",
     "text": [
      "\n"
     ]
    }
   ],
   "source": [
    "reader = open('data/lccc_large.jsonl', 'r', encoding='utf-8')\n",
    "writer = open('data/single_turn.jsonl', 'w', encoding='utf-8')\n",
    "\n",
    "from tqdm import tqdm\n",
    "\n",
    "i = 0\n",
    "\n",
    "for line in tqdm(reader):\n",
    "    data = ujson.loads(line.rstrip())\n",
    "    if len(data) == 2:\n",
    "        data = [''.join(x.split()) for x in data]\n",
    "        writer.write(ujson.dumps(data, ensure_ascii=False) + '\\n')\n",
    "        i += 1\n",
    "\n",
    "print(i)\n",
    "        \n",
    "reader.close()\n",
    "writer.close()"
   ]
  },
  {
   "cell_type": "code",
   "execution_count": 2,
   "metadata": {},
   "outputs": [
    {
     "name": "stderr",
     "output_type": "stream",
     "text": [
      "7273804it [00:32, 226869.72it/s]\n"
     ]
    },
    {
     "name": "stdout",
     "output_type": "stream",
     "text": [
      "{\"id\":\"0\",\"contents\":\"秀恩爱喔\"}\n",
      "{\"id\":\"1\",\"contents\":\"眉毛好厉害\"}\n",
      "{\"id\":\"2\",\"contents\":\"你给我做点饼干吃就好了\"}\n",
      "{\"id\":\"3\",\"contents\":\"可怜的二狗\"}\n",
      "{\"id\":\"4\",\"contents\":\"你是不换发型了\"}\n"
     ]
    }
   ],
   "source": [
    "import ujson\n",
    "from tqdm import tqdm\n",
    "\n",
    "\n",
    "with open('data/single_turn.jsonl', 'r', encoding='utf-8') as fin:\n",
    "    with open('data/queries.jsonl', 'w', encoding='utf-8') as fout:\n",
    "        for i, line in tqdm(enumerate(fin)):\n",
    "            query = ujson.loads(line.rstrip())[0]\n",
    "            fout.write(ujson.dumps({'id': str(i), 'contents': query}, ensure_ascii=False))\n",
    "            fout.write('\\n')\n",
    "            \n",
    "            \n",
    "with open('data/queries.jsonl', 'r', encoding='utf-8') as f:\n",
    "    for _ in range(5):\n",
    "        print(f.readline().strip())"
   ]
  },
  {
   "cell_type": "code",
   "execution_count": 2,
   "metadata": {},
   "outputs": [
    {
     "ename": "Exception",
     "evalue": "Unable to find javac",
     "output_type": "error",
     "traceback": [
      "\u001b[0;31m---------------------------------------------------------------------------\u001b[0m",
      "\u001b[0;31mTypeError\u001b[0m                                 Traceback (most recent call last)",
      "File \u001b[0;32m~/anaconda3/envs/work/lib/python3.8/site-packages/jnius/env.py:328\u001b[0m, in \u001b[0;36mget_jdk_home\u001b[0;34m(platform)\u001b[0m\n\u001b[1;32m    327\u001b[0m \u001b[39mtry\u001b[39;00m:\n\u001b[0;32m--> 328\u001b[0m     jdk_home \u001b[39m=\u001b[39m realpath(\n\u001b[1;32m    329\u001b[0m         which(\u001b[39m'\u001b[39;49m\u001b[39mjavac\u001b[39;49m\u001b[39m'\u001b[39;49m)\n\u001b[1;32m    330\u001b[0m     )\u001b[39m.\u001b[39mreplace(\u001b[39m'\u001b[39m\u001b[39mbin/javac\u001b[39m\u001b[39m'\u001b[39m, \u001b[39m'\u001b[39m\u001b[39m'\u001b[39m)\n\u001b[1;32m    331\u001b[0m \u001b[39mexcept\u001b[39;00m \u001b[39mTypeError\u001b[39;00m:\n",
      "File \u001b[0;32m~/anaconda3/envs/work/lib/python3.8/posixpath.py:390\u001b[0m, in \u001b[0;36mrealpath\u001b[0;34m(filename)\u001b[0m\n\u001b[1;32m    388\u001b[0m     \u001b[39m\"\"\"Return the canonical path of the specified filename, eliminating any\u001b[39;00m\n\u001b[1;32m    389\u001b[0m \u001b[39msymbolic links encountered in the path.\"\"\"\u001b[39;00m\n\u001b[0;32m--> 390\u001b[0m     filename \u001b[39m=\u001b[39m os\u001b[39m.\u001b[39;49mfspath(filename)\n\u001b[1;32m    391\u001b[0m     path, ok \u001b[39m=\u001b[39m _joinrealpath(filename[:\u001b[39m0\u001b[39m], filename, {})\n",
      "\u001b[0;31mTypeError\u001b[0m: expected str, bytes or os.PathLike object, not NoneType",
      "\nDuring handling of the above exception, another exception occurred:\n",
      "\u001b[0;31mException\u001b[0m                                 Traceback (most recent call last)",
      "\u001b[1;32m/home/liuqi/workspace/courses/Chatbot/tmp.ipynb Cell 4\u001b[0m in \u001b[0;36m<cell line: 1>\u001b[0;34m()\u001b[0m\n\u001b[0;32m----> <a href='vscode-notebook-cell://ssh-remote%2B183.174.229.153/home/liuqi/workspace/courses/Chatbot/tmp.ipynb#W3sdnNjb2RlLXJlbW90ZQ%3D%3D?line=0'>1</a>\u001b[0m \u001b[39mfrom\u001b[39;00m \u001b[39mpyserini\u001b[39;00m\u001b[39m.\u001b[39;00m\u001b[39msearch\u001b[39;00m\u001b[39m.\u001b[39;00m\u001b[39mlucene\u001b[39;00m \u001b[39mimport\u001b[39;00m LuceneSearcher\n\u001b[1;32m      <a href='vscode-notebook-cell://ssh-remote%2B183.174.229.153/home/liuqi/workspace/courses/Chatbot/tmp.ipynb#W3sdnNjb2RlLXJlbW90ZQ%3D%3D?line=2'>3</a>\u001b[0m searcher \u001b[39m=\u001b[39m LuceneSearcher(\u001b[39m'\u001b[39m\u001b[39mindex/queries/\u001b[39m\u001b[39m'\u001b[39m)\n\u001b[1;32m      <a href='vscode-notebook-cell://ssh-remote%2B183.174.229.153/home/liuqi/workspace/courses/Chatbot/tmp.ipynb#W3sdnNjb2RlLXJlbW90ZQ%3D%3D?line=3'>4</a>\u001b[0m searcher\u001b[39m.\u001b[39mset_language(\u001b[39m'\u001b[39m\u001b[39mzh\u001b[39m\u001b[39m'\u001b[39m)\n",
      "File \u001b[0;32m~/anaconda3/envs/work/lib/python3.8/site-packages/pyserini/search/__init__.py:17\u001b[0m, in \u001b[0;36m<module>\u001b[0;34m\u001b[0m\n\u001b[1;32m      1\u001b[0m \u001b[39m#\u001b[39;00m\n\u001b[1;32m      2\u001b[0m \u001b[39m# Pyserini: Reproducible IR research with sparse and dense representations\u001b[39;00m\n\u001b[1;32m      3\u001b[0m \u001b[39m#\u001b[39;00m\n\u001b[0;32m   (...)\u001b[0m\n\u001b[1;32m     14\u001b[0m \u001b[39m# limitations under the License.\u001b[39;00m\n\u001b[1;32m     15\u001b[0m \u001b[39m#\u001b[39;00m\n\u001b[0;32m---> 17\u001b[0m \u001b[39mfrom\u001b[39;00m \u001b[39m.\u001b[39;00m\u001b[39m_base\u001b[39;00m \u001b[39mimport\u001b[39;00m JQuery, JQueryGenerator, JDisjunctionMaxQueryGenerator, get_topics,\\\n\u001b[1;32m     18\u001b[0m     get_topics_with_reader, get_qrels_file, get_qrels\n\u001b[1;32m     19\u001b[0m \u001b[39mfrom\u001b[39;00m \u001b[39m.\u001b[39;00m\u001b[39mlucene\u001b[39;00m \u001b[39mimport\u001b[39;00m JLuceneSearcherResult, LuceneSimilarities, LuceneFusionSearcher, LuceneSearcher\n\u001b[1;32m     20\u001b[0m \u001b[39mfrom\u001b[39;00m \u001b[39m.\u001b[39;00m\u001b[39mlucene\u001b[39;00m \u001b[39mimport\u001b[39;00m JImpactSearcherResult, LuceneImpactSearcher\n",
      "File \u001b[0;32m~/anaconda3/envs/work/lib/python3.8/site-packages/pyserini/search/_base.py:26\u001b[0m, in \u001b[0;36m<module>\u001b[0;34m\u001b[0m\n\u001b[1;32m     23\u001b[0m \u001b[39mimport\u001b[39;00m \u001b[39mos\u001b[39;00m\n\u001b[1;32m     25\u001b[0m \u001b[39mfrom\u001b[39;00m \u001b[39mpyserini\u001b[39;00m\u001b[39m.\u001b[39;00m\u001b[39mutil\u001b[39;00m \u001b[39mimport\u001b[39;00m get_cache_home\n\u001b[0;32m---> 26\u001b[0m \u001b[39mfrom\u001b[39;00m \u001b[39mpyserini\u001b[39;00m\u001b[39m.\u001b[39;00m\u001b[39mpyclass\u001b[39;00m \u001b[39mimport\u001b[39;00m autoclass\n\u001b[1;32m     28\u001b[0m logger \u001b[39m=\u001b[39m logging\u001b[39m.\u001b[39mgetLogger(\u001b[39m__name__\u001b[39m)\n\u001b[1;32m     30\u001b[0m \u001b[39m# Wrappers around Lucene classes\u001b[39;00m\n",
      "File \u001b[0;32m~/anaconda3/envs/work/lib/python3.8/site-packages/pyserini/pyclass.py:27\u001b[0m, in \u001b[0;36m<module>\u001b[0;34m\u001b[0m\n\u001b[1;32m     23\u001b[0m \u001b[39m# If the environment variable isn't defined, look in the current directory.\u001b[39;00m\n\u001b[1;32m     24\u001b[0m configure_classpath(os\u001b[39m.\u001b[39menviron[\u001b[39m'\u001b[39m\u001b[39mANSERINI_CLASSPATH\u001b[39m\u001b[39m'\u001b[39m] \u001b[39mif\u001b[39;00m \u001b[39m'\u001b[39m\u001b[39mANSERINI_CLASSPATH\u001b[39m\u001b[39m'\u001b[39m \u001b[39min\u001b[39;00m os\u001b[39m.\u001b[39menviron \u001b[39melse\u001b[39;00m\n\u001b[1;32m     25\u001b[0m                     os\u001b[39m.\u001b[39mpath\u001b[39m.\u001b[39mjoin(os\u001b[39m.\u001b[39mpath\u001b[39m.\u001b[39msplit(\u001b[39m__file__\u001b[39m)[\u001b[39m0\u001b[39m], \u001b[39m'\u001b[39m\u001b[39mresources/jars/\u001b[39m\u001b[39m'\u001b[39m))\n\u001b[0;32m---> 27\u001b[0m \u001b[39mfrom\u001b[39;00m \u001b[39mjnius\u001b[39;00m \u001b[39mimport\u001b[39;00m autoclass, cast\n\u001b[1;32m     29\u001b[0m \u001b[39m# Base Java classes\u001b[39;00m\n\u001b[1;32m     30\u001b[0m JString \u001b[39m=\u001b[39m autoclass(\u001b[39m'\u001b[39m\u001b[39mjava.lang.String\u001b[39m\u001b[39m'\u001b[39m)\n",
      "File \u001b[0;32m~/anaconda3/envs/work/lib/python3.8/site-packages/jnius/__init__.py:45\u001b[0m, in \u001b[0;36m<module>\u001b[0;34m\u001b[0m\n\u001b[1;32m     43\u001b[0m \u001b[39melse\u001b[39;00m:\n\u001b[1;32m     44\u001b[0m     \u001b[39mfrom\u001b[39;00m \u001b[39m.\u001b[39;00m\u001b[39mjnius\u001b[39;00m \u001b[39mimport\u001b[39;00m \u001b[39m*\u001b[39m  \u001b[39m# noqa\u001b[39;00m\n\u001b[0;32m---> 45\u001b[0m     \u001b[39mfrom\u001b[39;00m \u001b[39m.\u001b[39;00m\u001b[39mreflect\u001b[39;00m \u001b[39mimport\u001b[39;00m \u001b[39m*\u001b[39m  \u001b[39m# noqa\u001b[39;00m\n\u001b[1;32m     47\u001b[0m \u001b[39mfrom\u001b[39;00m \u001b[39msix\u001b[39;00m \u001b[39mimport\u001b[39;00m with_metaclass\n\u001b[1;32m     49\u001b[0m \u001b[39m# XXX monkey patch methods that cannot be in cython.\u001b[39;00m\n\u001b[1;32m     50\u001b[0m \u001b[39m# Cython doesn't allow to set new attribute on methods it compiled\u001b[39;00m\n",
      "File \u001b[0;32m~/anaconda3/envs/work/lib/python3.8/site-packages/jnius/reflect.py:20\u001b[0m, in \u001b[0;36m<module>\u001b[0;34m\u001b[0m\n\u001b[1;32m     15\u001b[0m __all__ \u001b[39m=\u001b[39m (\u001b[39m'\u001b[39m\u001b[39mautoclass\u001b[39m\u001b[39m'\u001b[39m, \u001b[39m'\u001b[39m\u001b[39mensureclass\u001b[39m\u001b[39m'\u001b[39m, \u001b[39m'\u001b[39m\u001b[39mprotocol_map\u001b[39m\u001b[39m'\u001b[39m)\n\u001b[1;32m     17\u001b[0m log \u001b[39m=\u001b[39m getLogger(\u001b[39m__name__\u001b[39m)\n\u001b[0;32m---> 20\u001b[0m \u001b[39mclass\u001b[39;00m \u001b[39mClass\u001b[39;00m(with_metaclass(MetaJavaClass, JavaClass)):\n\u001b[1;32m     21\u001b[0m     __javaclass__ \u001b[39m=\u001b[39m \u001b[39m'\u001b[39m\u001b[39mjava/lang/Class\u001b[39m\u001b[39m'\u001b[39m\n\u001b[1;32m     23\u001b[0m     desiredAssertionStatus \u001b[39m=\u001b[39m JavaMethod(\u001b[39m'\u001b[39m\u001b[39m()Z\u001b[39m\u001b[39m'\u001b[39m)\n",
      "File \u001b[0;32m~/anaconda3/envs/work/lib/python3.8/site-packages/six.py:872\u001b[0m, in \u001b[0;36mwith_metaclass.<locals>.metaclass.__new__\u001b[0;34m(cls, name, this_bases, d)\u001b[0m\n\u001b[1;32m    870\u001b[0m \u001b[39melse\u001b[39;00m:\n\u001b[1;32m    871\u001b[0m     resolved_bases \u001b[39m=\u001b[39m bases\n\u001b[0;32m--> 872\u001b[0m \u001b[39mreturn\u001b[39;00m meta(name, resolved_bases, d)\n",
      "File \u001b[0;32mjnius/jnius_export_class.pxi:119\u001b[0m, in \u001b[0;36mjnius.MetaJavaClass.__new__\u001b[0;34m()\u001b[0m\n",
      "File \u001b[0;32mjnius/jnius_export_class.pxi:179\u001b[0m, in \u001b[0;36mjnius.MetaJavaClass.resolve_class\u001b[0;34m()\u001b[0m\n",
      "File \u001b[0;32mjnius/jnius_env.pxi:11\u001b[0m, in \u001b[0;36mjnius.get_jnienv\u001b[0;34m()\u001b[0m\n",
      "File \u001b[0;32mjnius/jnius_jvm_dlopen.pxi:102\u001b[0m, in \u001b[0;36mjnius.get_platform_jnienv\u001b[0;34m()\u001b[0m\n",
      "File \u001b[0;32mjnius/jnius_jvm_dlopen.pxi:54\u001b[0m, in \u001b[0;36mjnius.create_jnienv\u001b[0;34m()\u001b[0m\n",
      "File \u001b[0;32m~/anaconda3/envs/work/lib/python3.8/site-packages/jnius/env.py:66\u001b[0m, in \u001b[0;36mget_java_setup\u001b[0;34m(platform)\u001b[0m\n\u001b[1;32m     64\u001b[0m \u001b[39m# go hunting for Javac and Java programs, in that order\u001b[39;00m\n\u001b[1;32m     65\u001b[0m \u001b[39mif\u001b[39;00m \u001b[39mnot\u001b[39;00m is_set(JAVA_HOME):\n\u001b[0;32m---> 66\u001b[0m     JAVA_HOME \u001b[39m=\u001b[39m get_jdk_home(platform)\n\u001b[1;32m     68\u001b[0m \u001b[39mif\u001b[39;00m \u001b[39mnot\u001b[39;00m is_set(JAVA_HOME):\n\u001b[1;32m     69\u001b[0m     JAVA_HOME \u001b[39m=\u001b[39m get_jre_home(platform)\n",
      "File \u001b[0;32m~/anaconda3/envs/work/lib/python3.8/site-packages/jnius/env.py:332\u001b[0m, in \u001b[0;36mget_jdk_home\u001b[0;34m(platform)\u001b[0m\n\u001b[1;32m    328\u001b[0m             jdk_home \u001b[39m=\u001b[39m realpath(\n\u001b[1;32m    329\u001b[0m                 which(\u001b[39m'\u001b[39m\u001b[39mjavac\u001b[39m\u001b[39m'\u001b[39m)\n\u001b[1;32m    330\u001b[0m             )\u001b[39m.\u001b[39mreplace(\u001b[39m'\u001b[39m\u001b[39mbin/javac\u001b[39m\u001b[39m'\u001b[39m, \u001b[39m'\u001b[39m\u001b[39m'\u001b[39m)\n\u001b[1;32m    331\u001b[0m         \u001b[39mexcept\u001b[39;00m \u001b[39mTypeError\u001b[39;00m:\n\u001b[0;32m--> 332\u001b[0m             \u001b[39mraise\u001b[39;00m \u001b[39mException\u001b[39;00m(\u001b[39m'\u001b[39m\u001b[39mUnable to find javac\u001b[39m\u001b[39m'\u001b[39m)\n\u001b[1;32m    334\u001b[0m \u001b[39mif\u001b[39;00m \u001b[39mnot\u001b[39;00m jdk_home \u001b[39mor\u001b[39;00m \u001b[39mnot\u001b[39;00m exists(jdk_home):\n\u001b[1;32m    335\u001b[0m     \u001b[39mreturn\u001b[39;00m \u001b[39mNone\u001b[39;00m\n",
      "\u001b[0;31mException\u001b[0m: Unable to find javac"
     ]
    }
   ],
   "source": [
    "from pyserini.search.lucene import LuceneSearcher\n",
    "\n",
    "searcher = LuceneSearcher('index/queries/')\n",
    "searcher.set_language('zh')\n",
    "hits = searcher.search('你吃饭了吗')\n",
    "\n",
    "for i in range(len(hits)):\n",
    "    print(f'{i+1:2} {hits[i].docid:4} {hits[i].score:.5f}')"
   ]
  }
 ],
 "metadata": {
  "kernelspec": {
   "display_name": "Python 3.8.13 ('work')",
   "language": "python",
   "name": "python3"
  },
  "language_info": {
   "codemirror_mode": {
    "name": "ipython",
    "version": 3
   },
   "file_extension": ".py",
   "mimetype": "text/x-python",
   "name": "python",
   "nbconvert_exporter": "python",
   "pygments_lexer": "ipython3",
   "version": "3.8.13 (default, Oct 21 2022, 23:50:54) \n[GCC 11.2.0]"
  },
  "orig_nbformat": 4,
  "vscode": {
   "interpreter": {
    "hash": "fa8ce8c832bf1815deb0da4122819074483ee9db097cade3d415019a6c2b9bed"
   }
  }
 },
 "nbformat": 4,
 "nbformat_minor": 2
}
